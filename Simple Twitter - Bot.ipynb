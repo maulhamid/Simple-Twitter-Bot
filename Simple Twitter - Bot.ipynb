{
 "cells": [
  {
   "cell_type": "code",
   "execution_count": 1,
   "metadata": {},
   "outputs": [],
   "source": [
    "import random"
   ]
  },
  {
   "cell_type": "code",
   "execution_count": 3,
   "metadata": {},
   "outputs": [],
   "source": [
    "word1=['Putin','Hillary','Obama','Fake News','Mexico','Sule','The Democrats']\n",
    "word2=['No talent, ','On the way down, ', 'Really poor numbers, ', 'Nasty tone, ','Looking like a fool, ','Bad hombre']\n",
    "word3=['Got destroyed by my ratings.','Rigged the election.','Had a much smaller crowd.','Will pay for the wall']\n",
    "word4=['So sad','Apologize','So true','Media wont report','Big trouble','Fantastic job','Stay tuned']"
   ]
  },
  {
   "cell_type": "code",
   "execution_count": 4,
   "metadata": {},
   "outputs": [
    {
     "name": "stdout",
     "output_type": "stream",
     "text": [
      "[['Putin', 'Hillary', 'Obama', 'Fake News', 'Mexico', 'Sule', 'The Democrats'], ['No talent, ', 'On the way down, ', 'Really poor numbers, ', 'Nasty tone, ', 'Looking like a fool, ', 'Bad hombre'], ['Got destroyed by my ratings.', 'Rigged the election.', 'Had a much smaller crowd.', 'Will pay for the wall'], ['So sad', 'Apologize', 'So true', 'Media wont report', 'Big trouble', 'Fantastic job', 'Stay tuned']]\n"
     ]
    }
   ],
   "source": [
    "best_word = [word1,word2,word3,word4]\n",
    "print(best_word)"
   ]
  },
  {
   "cell_type": "code",
   "execution_count": 18,
   "metadata": {},
   "outputs": [
    {
     "name": "stdout",
     "output_type": "stream",
     "text": [
      "Hillary Really poor numbers,  Rigged the election. Big trouble!\n"
     ]
    }
   ],
   "source": [
    "sentence = []\n",
    "\n",
    "for word in best_word:\n",
    "    r = random.randint(0,len(word)-1)\n",
    "    sentence.append(word[r])\n",
    "print(\" \".join(sentence) + \"!\")"
   ]
  },
  {
   "cell_type": "code",
   "execution_count": null,
   "metadata": {},
   "outputs": [],
   "source": []
  },
  {
   "cell_type": "code",
   "execution_count": null,
   "metadata": {},
   "outputs": [],
   "source": []
  }
 ],
 "metadata": {
  "kernelspec": {
   "display_name": "Python 3",
   "language": "python",
   "name": "python3"
  },
  "language_info": {
   "codemirror_mode": {
    "name": "ipython",
    "version": 3
   },
   "file_extension": ".py",
   "mimetype": "text/x-python",
   "name": "python",
   "nbconvert_exporter": "python",
   "pygments_lexer": "ipython3",
   "version": "3.8.5"
  }
 },
 "nbformat": 4,
 "nbformat_minor": 4
}
